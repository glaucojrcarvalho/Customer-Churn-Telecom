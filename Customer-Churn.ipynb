{
 "cells": [
  {
   "cell_type": "markdown",
   "metadata": {},
   "source": [
    "### Projeto com Feedback - 04\n",
    "### Prevendo Rotatividade de Clientes em uma Operadora de Telecom\n",
    "### Autor: Glauco Júnior Carvalho"
   ]
  },
  {
   "cell_type": "markdown",
   "metadata": {},
   "source": [
    "O termo customer churn (rotatividade de clientes) é uma métrica para avaliar quantos clientes a empresa perdeu até o final do período.\n",
    "\n",
    "Uma empresa de telecom preocupada com o customer churn, pediu a nossa ajuda para construir um modelo capaz de prever se o cliente vai deixar ou não o plano, de acordo com a regra de lucratividade 20% dos clientes geram 80% da receita.\n",
    "\n",
    "Então o nosso objetivo é prever os clientes que estão insatisfeitos com o plano e ter um tratamento especial para evitar o desligamento."
   ]
  },
  {
   "cell_type": "markdown",
   "metadata": {},
   "source": [
    "# Guia de Referência\n",
    "\n",
    "    1. Importação de bibliotecas\n",
    "    2. Importação de conjunto de dados\n",
    "    3. Visualização e shape dos dados\n",
    "    4. Alterando conjuntos de dados\n",
    "    5. Visualização geral das distribuições dos dados\n",
    "        5.1 Seaborn (pairplot)\n",
    "        5.2 Matplotlib\n",
    "    6. Análise exploratória e plotagem de gráficos\n",
    "        6.1 Rotatividade (churn)\n",
    "        6.2 Chamadas de serviços (cliente - operadora)\n",
    "        6.3 Contas e rotatividade de clientes por Estado\n",
    "        6.4 Correio de voz e rotatividade de clientes\n",
    "        6.5 Total de crédito (carga) por Estado\n",
    "        6.6 Rotatividade de clientes por serviços em períodos distintos\n",
    "        6.7 Total de ligações por Estado\n",
    "        6.8 Contas por área\n",
    "        6.9 Ligações por área\n",
    "        6.10 Chamados de serviços de clientes por área\n",
    "        6.11 Rotatividade de clientes por área\n",
    "        6.12 Contas por nacionalidade\n",
    "        6.13 Ligações por nacionalidade\n",
    "        6.14 Chamados de serviços de clientes por nacionalidade\n",
    "        6.15 Rotatividade de clientes por nacionalidade\n",
    "    7. Removendo colunas colineares\n",
    "    8. Verificando tipos dos dados\n",
    "    9. Transformando conjuntos de dados\n",
    "    10. Verificando distribuição de rotatividade\n",
    "        10.1 Treino\n",
    "        10.2 Teste\n",
    "    11. Separando variáveis preditoras de variável target\n",
    "    12. Normalização e Padronização\n",
    "        12.1 Normalização com MinMaxScaler\n",
    "        12.2 Normalização com Normalizer\n",
    "        12.3 Padronização com StandardScaler\n",
    "    13. Modelo de Machine Learning e Regressão Logística (Logistic Regression)\n",
    "        13.1 Regressão Logística com dados pré-processados, sem técnicas de normalização e padronização\n",
    "        13.2 Regressão Logística em dados normalizados com MinMaxScaler\n",
    "        13.3 Regressão Logística em dados normalizados com Normalizer\n",
    "        13.4 Regressão Logística em dados padronizados com StandardScaler\n",
    "        13.5 Otimização do Modelo Regressão Logística\n",
    "    14. Feature Selection (Seleção de Variáveis)\n",
    "        14.1 Regressão logística com feature selection\n",
    "    15. Resumo de acurácia dos modelos\n",
    "    16. Previsões, probabilidade e matriz de confusão"
   ]
  },
  {
   "cell_type": "markdown",
   "metadata": {},
   "source": [
    "### 1. Importação de bibliotecas"
   ]
  },
  {
   "cell_type": "code",
   "execution_count": 1,
   "metadata": {},
   "outputs": [],
   "source": [
    "# Importando bibliotecas\n",
    "\n",
    "import pandas as pd\n",
    "import matplotlib.pyplot as plt\n",
    "%matplotlib inline\n",
    "import seaborn as sns\n",
    "\n",
    "import warnings\n",
    "warnings.filterwarnings(\"ignore\")\n",
    "\n",
    "from sklearn.preprocessing import MinMaxScaler\n",
    "from sklearn.preprocessing import Normalizer\n",
    "from sklearn.preprocessing import StandardScaler\n",
    "\n",
    "from sklearn.linear_model import LogisticRegression\n",
    "\n",
    "from sklearn.metrics import confusion_matrix\n",
    "\n",
    "from sklearn.feature_selection import RFE\n",
    "from sklearn.model_selection import GridSearchCV"
   ]
  },
  {
   "cell_type": "markdown",
   "metadata": {},
   "source": [
    "### 2. Importação de conjunto de dados"
   ]
  },
  {
   "cell_type": "code",
   "execution_count": 2,
   "metadata": {},
   "outputs": [],
   "source": [
    "# Importando conjuntos de dados\n",
    "\n",
    "train = pd.read_csv('projeto4_telecom_treino.csv')\n",
    "test = pd.read_csv('projeto4_telecom_teste.csv')"
   ]
  },
  {
   "cell_type": "markdown",
   "metadata": {},
   "source": [
    "### 3. Visualização e shape dos dados"
   ]
  },
  {
   "cell_type": "code",
   "execution_count": 3,
   "metadata": {},
   "outputs": [
    {
     "data": {
      "text/html": [
       "<div>\n",
       "<style scoped>\n",
       "    .dataframe tbody tr th:only-of-type {\n",
       "        vertical-align: middle;\n",
       "    }\n",
       "\n",
       "    .dataframe tbody tr th {\n",
       "        vertical-align: top;\n",
       "    }\n",
       "\n",
       "    .dataframe thead th {\n",
       "        text-align: right;\n",
       "    }\n",
       "</style>\n",
       "<table border=\"1\" class=\"dataframe\">\n",
       "  <thead>\n",
       "    <tr style=\"text-align: right;\">\n",
       "      <th></th>\n",
       "      <th>Unnamed: 0</th>\n",
       "      <th>state</th>\n",
       "      <th>account_length</th>\n",
       "      <th>area_code</th>\n",
       "      <th>international_plan</th>\n",
       "      <th>voice_mail_plan</th>\n",
       "      <th>number_vmail_messages</th>\n",
       "      <th>total_day_minutes</th>\n",
       "      <th>total_day_calls</th>\n",
       "      <th>total_day_charge</th>\n",
       "      <th>...</th>\n",
       "      <th>total_eve_calls</th>\n",
       "      <th>total_eve_charge</th>\n",
       "      <th>total_night_minutes</th>\n",
       "      <th>total_night_calls</th>\n",
       "      <th>total_night_charge</th>\n",
       "      <th>total_intl_minutes</th>\n",
       "      <th>total_intl_calls</th>\n",
       "      <th>total_intl_charge</th>\n",
       "      <th>number_customer_service_calls</th>\n",
       "      <th>churn</th>\n",
       "    </tr>\n",
       "  </thead>\n",
       "  <tbody>\n",
       "    <tr>\n",
       "      <th>0</th>\n",
       "      <td>1</td>\n",
       "      <td>KS</td>\n",
       "      <td>128</td>\n",
       "      <td>area_code_415</td>\n",
       "      <td>no</td>\n",
       "      <td>yes</td>\n",
       "      <td>25</td>\n",
       "      <td>265.1</td>\n",
       "      <td>110</td>\n",
       "      <td>45.07</td>\n",
       "      <td>...</td>\n",
       "      <td>99</td>\n",
       "      <td>16.78</td>\n",
       "      <td>244.7</td>\n",
       "      <td>91</td>\n",
       "      <td>11.01</td>\n",
       "      <td>10.0</td>\n",
       "      <td>3</td>\n",
       "      <td>2.70</td>\n",
       "      <td>1</td>\n",
       "      <td>no</td>\n",
       "    </tr>\n",
       "    <tr>\n",
       "      <th>1</th>\n",
       "      <td>2</td>\n",
       "      <td>OH</td>\n",
       "      <td>107</td>\n",
       "      <td>area_code_415</td>\n",
       "      <td>no</td>\n",
       "      <td>yes</td>\n",
       "      <td>26</td>\n",
       "      <td>161.6</td>\n",
       "      <td>123</td>\n",
       "      <td>27.47</td>\n",
       "      <td>...</td>\n",
       "      <td>103</td>\n",
       "      <td>16.62</td>\n",
       "      <td>254.4</td>\n",
       "      <td>103</td>\n",
       "      <td>11.45</td>\n",
       "      <td>13.7</td>\n",
       "      <td>3</td>\n",
       "      <td>3.70</td>\n",
       "      <td>1</td>\n",
       "      <td>no</td>\n",
       "    </tr>\n",
       "    <tr>\n",
       "      <th>2</th>\n",
       "      <td>3</td>\n",
       "      <td>NJ</td>\n",
       "      <td>137</td>\n",
       "      <td>area_code_415</td>\n",
       "      <td>no</td>\n",
       "      <td>no</td>\n",
       "      <td>0</td>\n",
       "      <td>243.4</td>\n",
       "      <td>114</td>\n",
       "      <td>41.38</td>\n",
       "      <td>...</td>\n",
       "      <td>110</td>\n",
       "      <td>10.30</td>\n",
       "      <td>162.6</td>\n",
       "      <td>104</td>\n",
       "      <td>7.32</td>\n",
       "      <td>12.2</td>\n",
       "      <td>5</td>\n",
       "      <td>3.29</td>\n",
       "      <td>0</td>\n",
       "      <td>no</td>\n",
       "    </tr>\n",
       "    <tr>\n",
       "      <th>3</th>\n",
       "      <td>4</td>\n",
       "      <td>OH</td>\n",
       "      <td>84</td>\n",
       "      <td>area_code_408</td>\n",
       "      <td>yes</td>\n",
       "      <td>no</td>\n",
       "      <td>0</td>\n",
       "      <td>299.4</td>\n",
       "      <td>71</td>\n",
       "      <td>50.90</td>\n",
       "      <td>...</td>\n",
       "      <td>88</td>\n",
       "      <td>5.26</td>\n",
       "      <td>196.9</td>\n",
       "      <td>89</td>\n",
       "      <td>8.86</td>\n",
       "      <td>6.6</td>\n",
       "      <td>7</td>\n",
       "      <td>1.78</td>\n",
       "      <td>2</td>\n",
       "      <td>no</td>\n",
       "    </tr>\n",
       "    <tr>\n",
       "      <th>4</th>\n",
       "      <td>5</td>\n",
       "      <td>OK</td>\n",
       "      <td>75</td>\n",
       "      <td>area_code_415</td>\n",
       "      <td>yes</td>\n",
       "      <td>no</td>\n",
       "      <td>0</td>\n",
       "      <td>166.7</td>\n",
       "      <td>113</td>\n",
       "      <td>28.34</td>\n",
       "      <td>...</td>\n",
       "      <td>122</td>\n",
       "      <td>12.61</td>\n",
       "      <td>186.9</td>\n",
       "      <td>121</td>\n",
       "      <td>8.41</td>\n",
       "      <td>10.1</td>\n",
       "      <td>3</td>\n",
       "      <td>2.73</td>\n",
       "      <td>3</td>\n",
       "      <td>no</td>\n",
       "    </tr>\n",
       "  </tbody>\n",
       "</table>\n",
       "<p>5 rows × 21 columns</p>\n",
       "</div>"
      ],
      "text/plain": [
       "   Unnamed: 0 state  account_length      area_code international_plan  \\\n",
       "0           1    KS             128  area_code_415                 no   \n",
       "1           2    OH             107  area_code_415                 no   \n",
       "2           3    NJ             137  area_code_415                 no   \n",
       "3           4    OH              84  area_code_408                yes   \n",
       "4           5    OK              75  area_code_415                yes   \n",
       "\n",
       "  voice_mail_plan  number_vmail_messages  total_day_minutes  total_day_calls  \\\n",
       "0             yes                     25              265.1              110   \n",
       "1             yes                     26              161.6              123   \n",
       "2              no                      0              243.4              114   \n",
       "3              no                      0              299.4               71   \n",
       "4              no                      0              166.7              113   \n",
       "\n",
       "   total_day_charge  ...  total_eve_calls  total_eve_charge  \\\n",
       "0             45.07  ...               99             16.78   \n",
       "1             27.47  ...              103             16.62   \n",
       "2             41.38  ...              110             10.30   \n",
       "3             50.90  ...               88              5.26   \n",
       "4             28.34  ...              122             12.61   \n",
       "\n",
       "   total_night_minutes  total_night_calls  total_night_charge  \\\n",
       "0                244.7                 91               11.01   \n",
       "1                254.4                103               11.45   \n",
       "2                162.6                104                7.32   \n",
       "3                196.9                 89                8.86   \n",
       "4                186.9                121                8.41   \n",
       "\n",
       "   total_intl_minutes  total_intl_calls  total_intl_charge  \\\n",
       "0                10.0                 3               2.70   \n",
       "1                13.7                 3               3.70   \n",
       "2                12.2                 5               3.29   \n",
       "3                 6.6                 7               1.78   \n",
       "4                10.1                 3               2.73   \n",
       "\n",
       "   number_customer_service_calls  churn  \n",
       "0                              1     no  \n",
       "1                              1     no  \n",
       "2                              0     no  \n",
       "3                              2     no  \n",
       "4                              3     no  \n",
       "\n",
       "[5 rows x 21 columns]"
      ]
     },
     "execution_count": 3,
     "metadata": {},
     "output_type": "execute_result"
    }
   ],
   "source": [
    "train.head()"
   ]
  },
  {
   "cell_type": "code",
   "execution_count": 4,
   "metadata": {},
   "outputs": [
    {
     "data": {
      "text/plain": [
       "(3333, 21)"
      ]
     },
     "execution_count": 4,
     "metadata": {},
     "output_type": "execute_result"
    }
   ],
   "source": [
    "train.shape"
   ]
  },
  {
   "cell_type": "code",
   "execution_count": 5,
   "metadata": {
    "scrolled": true
   },
   "outputs": [
    {
     "data": {
      "text/html": [
       "<div>\n",
       "<style scoped>\n",
       "    .dataframe tbody tr th:only-of-type {\n",
       "        vertical-align: middle;\n",
       "    }\n",
       "\n",
       "    .dataframe tbody tr th {\n",
       "        vertical-align: top;\n",
       "    }\n",
       "\n",
       "    .dataframe thead th {\n",
       "        text-align: right;\n",
       "    }\n",
       "</style>\n",
       "<table border=\"1\" class=\"dataframe\">\n",
       "  <thead>\n",
       "    <tr style=\"text-align: right;\">\n",
       "      <th></th>\n",
       "      <th>Unnamed: 0</th>\n",
       "      <th>state</th>\n",
       "      <th>account_length</th>\n",
       "      <th>area_code</th>\n",
       "      <th>international_plan</th>\n",
       "      <th>voice_mail_plan</th>\n",
       "      <th>number_vmail_messages</th>\n",
       "      <th>total_day_minutes</th>\n",
       "      <th>total_day_calls</th>\n",
       "      <th>total_day_charge</th>\n",
       "      <th>...</th>\n",
       "      <th>total_eve_calls</th>\n",
       "      <th>total_eve_charge</th>\n",
       "      <th>total_night_minutes</th>\n",
       "      <th>total_night_calls</th>\n",
       "      <th>total_night_charge</th>\n",
       "      <th>total_intl_minutes</th>\n",
       "      <th>total_intl_calls</th>\n",
       "      <th>total_intl_charge</th>\n",
       "      <th>number_customer_service_calls</th>\n",
       "      <th>churn</th>\n",
       "    </tr>\n",
       "  </thead>\n",
       "  <tbody>\n",
       "    <tr>\n",
       "      <th>0</th>\n",
       "      <td>1</td>\n",
       "      <td>HI</td>\n",
       "      <td>101</td>\n",
       "      <td>area_code_510</td>\n",
       "      <td>no</td>\n",
       "      <td>no</td>\n",
       "      <td>0</td>\n",
       "      <td>70.9</td>\n",
       "      <td>123</td>\n",
       "      <td>12.05</td>\n",
       "      <td>...</td>\n",
       "      <td>73</td>\n",
       "      <td>18.01</td>\n",
       "      <td>236.0</td>\n",
       "      <td>73</td>\n",
       "      <td>10.62</td>\n",
       "      <td>10.6</td>\n",
       "      <td>3</td>\n",
       "      <td>2.86</td>\n",
       "      <td>3</td>\n",
       "      <td>no</td>\n",
       "    </tr>\n",
       "    <tr>\n",
       "      <th>1</th>\n",
       "      <td>2</td>\n",
       "      <td>MT</td>\n",
       "      <td>137</td>\n",
       "      <td>area_code_510</td>\n",
       "      <td>no</td>\n",
       "      <td>no</td>\n",
       "      <td>0</td>\n",
       "      <td>223.6</td>\n",
       "      <td>86</td>\n",
       "      <td>38.01</td>\n",
       "      <td>...</td>\n",
       "      <td>139</td>\n",
       "      <td>20.81</td>\n",
       "      <td>94.2</td>\n",
       "      <td>81</td>\n",
       "      <td>4.24</td>\n",
       "      <td>9.5</td>\n",
       "      <td>7</td>\n",
       "      <td>2.57</td>\n",
       "      <td>0</td>\n",
       "      <td>no</td>\n",
       "    </tr>\n",
       "    <tr>\n",
       "      <th>2</th>\n",
       "      <td>3</td>\n",
       "      <td>OH</td>\n",
       "      <td>103</td>\n",
       "      <td>area_code_408</td>\n",
       "      <td>no</td>\n",
       "      <td>yes</td>\n",
       "      <td>29</td>\n",
       "      <td>294.7</td>\n",
       "      <td>95</td>\n",
       "      <td>50.10</td>\n",
       "      <td>...</td>\n",
       "      <td>105</td>\n",
       "      <td>20.17</td>\n",
       "      <td>300.3</td>\n",
       "      <td>127</td>\n",
       "      <td>13.51</td>\n",
       "      <td>13.7</td>\n",
       "      <td>6</td>\n",
       "      <td>3.70</td>\n",
       "      <td>1</td>\n",
       "      <td>no</td>\n",
       "    </tr>\n",
       "    <tr>\n",
       "      <th>3</th>\n",
       "      <td>4</td>\n",
       "      <td>NM</td>\n",
       "      <td>99</td>\n",
       "      <td>area_code_415</td>\n",
       "      <td>no</td>\n",
       "      <td>no</td>\n",
       "      <td>0</td>\n",
       "      <td>216.8</td>\n",
       "      <td>123</td>\n",
       "      <td>36.86</td>\n",
       "      <td>...</td>\n",
       "      <td>88</td>\n",
       "      <td>10.74</td>\n",
       "      <td>220.6</td>\n",
       "      <td>82</td>\n",
       "      <td>9.93</td>\n",
       "      <td>15.7</td>\n",
       "      <td>2</td>\n",
       "      <td>4.24</td>\n",
       "      <td>1</td>\n",
       "      <td>no</td>\n",
       "    </tr>\n",
       "    <tr>\n",
       "      <th>4</th>\n",
       "      <td>5</td>\n",
       "      <td>SC</td>\n",
       "      <td>108</td>\n",
       "      <td>area_code_415</td>\n",
       "      <td>no</td>\n",
       "      <td>no</td>\n",
       "      <td>0</td>\n",
       "      <td>197.4</td>\n",
       "      <td>78</td>\n",
       "      <td>33.56</td>\n",
       "      <td>...</td>\n",
       "      <td>101</td>\n",
       "      <td>10.54</td>\n",
       "      <td>204.5</td>\n",
       "      <td>107</td>\n",
       "      <td>9.20</td>\n",
       "      <td>7.7</td>\n",
       "      <td>4</td>\n",
       "      <td>2.08</td>\n",
       "      <td>2</td>\n",
       "      <td>no</td>\n",
       "    </tr>\n",
       "  </tbody>\n",
       "</table>\n",
       "<p>5 rows × 21 columns</p>\n",
       "</div>"
      ],
      "text/plain": [
       "   Unnamed: 0 state  account_length      area_code international_plan  \\\n",
       "0           1    HI             101  area_code_510                 no   \n",
       "1           2    MT             137  area_code_510                 no   \n",
       "2           3    OH             103  area_code_408                 no   \n",
       "3           4    NM              99  area_code_415                 no   \n",
       "4           5    SC             108  area_code_415                 no   \n",
       "\n",
       "  voice_mail_plan  number_vmail_messages  total_day_minutes  total_day_calls  \\\n",
       "0              no                      0               70.9              123   \n",
       "1              no                      0              223.6               86   \n",
       "2             yes                     29              294.7               95   \n",
       "3              no                      0              216.8              123   \n",
       "4              no                      0              197.4               78   \n",
       "\n",
       "   total_day_charge  ...  total_eve_calls  total_eve_charge  \\\n",
       "0             12.05  ...               73             18.01   \n",
       "1             38.01  ...              139             20.81   \n",
       "2             50.10  ...              105             20.17   \n",
       "3             36.86  ...               88             10.74   \n",
       "4             33.56  ...              101             10.54   \n",
       "\n",
       "   total_night_minutes  total_night_calls  total_night_charge  \\\n",
       "0                236.0                 73               10.62   \n",
       "1                 94.2                 81                4.24   \n",
       "2                300.3                127               13.51   \n",
       "3                220.6                 82                9.93   \n",
       "4                204.5                107                9.20   \n",
       "\n",
       "   total_intl_minutes  total_intl_calls  total_intl_charge  \\\n",
       "0                10.6                 3               2.86   \n",
       "1                 9.5                 7               2.57   \n",
       "2                13.7                 6               3.70   \n",
       "3                15.7                 2               4.24   \n",
       "4                 7.7                 4               2.08   \n",
       "\n",
       "   number_customer_service_calls  churn  \n",
       "0                              3     no  \n",
       "1                              0     no  \n",
       "2                              1     no  \n",
       "3                              1     no  \n",
       "4                              2     no  \n",
       "\n",
       "[5 rows x 21 columns]"
      ]
     },
     "execution_count": 5,
     "metadata": {},
     "output_type": "execute_result"
    }
   ],
   "source": [
    "test.head()"
   ]
  },
  {
   "cell_type": "code",
   "execution_count": 6,
   "metadata": {
    "scrolled": true
   },
   "outputs": [
    {
     "data": {
      "text/plain": [
       "(1667, 21)"
      ]
     },
     "execution_count": 6,
     "metadata": {},
     "output_type": "execute_result"
    }
   ],
   "source": [
    "test.shape"
   ]
  },
  {
   "cell_type": "markdown",
   "metadata": {},
   "source": [
    "### 4. Alterando conjuntos de dados"
   ]
  },
  {
   "cell_type": "code",
   "execution_count": 7,
   "metadata": {},
   "outputs": [],
   "source": [
    "# Removendo coluna de índice redundante\n",
    "del train['Unnamed: 0']; del test['Unnamed: 0']\n",
    "\n",
    "# Inserindo coluna com o total de crédito por dia para análise\n",
    "train['total_charge'] = train['total_day_charge'] + train['total_eve_charge'] + train['total_night_charge']\n",
    "\n",
    "# Inserindo coluna com o total de ligações por dia para análise\n",
    "train['total_calls'] = train['total_day_calls'] + train['total_eve_calls'] + train['total_night_calls']"
   ]
  },
  {
   "cell_type": "markdown",
   "metadata": {},
   "source": [
    "### 5. Visualização geral das distribuições dos dados"
   ]
  },
  {
   "cell_type": "markdown",
   "metadata": {},
   "source": [
    "#### 5.1 Seaborn (pairplot)\n",
    "Faz plotagem de todas as variáveis, muito útil para análise da distribuição geral dos dados. Deixei o script comentado para poupar tempo de processamento do telespectador, caso deseje analisar como os dados estão distrubuídos remova o \"#\" da linha abaixo."
   ]
  },
  {
   "cell_type": "code",
   "execution_count": 8,
   "metadata": {
    "scrolled": true
   },
   "outputs": [],
   "source": [
    "# sns.pairplot(train)"
   ]
  },
  {
   "cell_type": "markdown",
   "metadata": {},
   "source": [
    "#### 5.2 Matplotlib\n",
    "Com o matplotlib podemos analisar como estão as distribuição dos dados, analisaremos o histograma do conjunto de dados de treino."
   ]
  },
  {
   "cell_type": "code",
   "execution_count": 9,
   "metadata": {},
   "outputs": [
    {
     "data": {
      "image/png": "[encoded data removed]",
      "text/plain": [
       "<Figure size 432x288 with 20 Axes>"
      ]
     },
     "metadata": {
      "needs_background": "light"
     },
     "output_type": "display_data"
    }
   ],
   "source": [
    "train.hist()\n",
    "plt.show()"
   ]
  },
  {
   "cell_type": "markdown",
   "metadata": {},
   "source": [
    "Podemos concluir que a maioria dos dados possui uma distribuição normal, esses gráficos em forma de \"sino\". Muitas vezes esse tratamento é feito pelo Engenheiro de Dados, Analista de Dados..., esse pré-processamento poupa um tempo considerável do Cientista de Dados."
   ]
  },
  {
   "cell_type": "markdown",
   "metadata": {},
   "source": [
    "### 6. Análise exploratória e plotagem de gráficos\n",
    "#### 6.1 Rotatividade (churn)"
   ]
  },
  {
   "cell_type": "code",
   "execution_count": 10,
   "metadata": {
    "scrolled": true
   },
   "outputs": [
    {
     "data": {
      "image/png": "[encoded data removed]",
      "text/plain": [
       "<Figure size 288x504 with 1 Axes>"
      ]
     },
     "metadata": {
      "needs_background": "light"
     },
     "output_type": "display_data"
    }
   ],
   "source": [
    "# Análise de rotatividade de clientes\n",
    "\n",
    "churn_analytics = train.groupby('churn').size().\\\n",
    "                  to_frame('count').sort_values('count', ascending=False).reset_index()\n",
    "\n",
    "churn_analytics['churn'] = \\\n",
    "['não' if x == 'no' else 'sim' for x in churn_analytics['churn']]\n",
    "\n",
    "# Inicializando a figura do gráfico\n",
    "f, ax = plt.subplots(figsize=(4, 7))\n",
    "\n",
    "# Plotando gráfico de rotatividade de clientes\n",
    "sns.set_color_codes(\"muted\")\n",
    "sns.barplot(x=\"churn\", y=\"count\", data=churn_analytics)\n",
    "\n",
    "ax.set(title = \"Rotatividade de clientes\", ylabel = \"Total\", xlabel = \"Cliente deixou plano?\")\n",
    "sns.despine(left=True, bottom=True)"
   ]
  },
  {
   "cell_type": "markdown",
   "metadata": {},
   "source": [
    "#### 6.2 Chamadas de serviços (cliente - operadora)"
   ]
  },
  {
   "cell_type": "code",
   "execution_count": 11,
   "metadata": {
    "scrolled": true
   },
   "outputs": [
    {
     "data": {
      "image/png": "[encoded data removed]",
      "text/plain": [
       "<Figure size 288x504 with 1 Axes>"
      ]
     },
     "metadata": {
      "needs_background": "light"
     },
     "output_type": "display_data"
    }
   ],
   "source": [
    "# Chamadas de serviços cliente - operadora\n",
    "\n",
    "customer_service_call_analytics = train.groupby('churn')['number_customer_service_calls'].sum().\\\n",
    "                  to_frame('count').sort_values('count', ascending=False).reset_index()\n",
    "\n",
    "customer_service_call_analytics['churn'] = \\\n",
    "['não' if x == 'no' else 'sim' for x in customer_service_call_analytics['churn']]\n",
    "\n",
    "# Inicializando a figura do gráfico\n",
    "f, ax = plt.subplots(figsize=(4, 7))\n",
    "\n",
    "# Plotando gráfico de chamadas de serviços dos clientes\n",
    "sns.set_color_codes(\"muted\")\n",
    "sns.barplot(x=\"churn\", y=\"count\", data=customer_service_call_analytics)\n",
    "\n",
    "ax.set(title = \"Chamado de clientes\", ylabel = \"Total\", xlabel = \"Cliente deixou plano?\")\n",
    "sns.despine(left=True, bottom=True)"
   ]
  },
  {
   "cell_type": "markdown",
   "metadata": {},
   "source": [
    "#### 6.3 Contas e rotatividade de clientes por Estado\n",
    "Esse gráfico apresenta 2 informações importantes, essas cores mais claras representam o tamanho das contas por estado, já a cor mais escura (vinho), representa os clientes que deixaram o plano."
   ]
  },
  {
   "cell_type": "code",
   "execution_count": 12,
   "metadata": {
    "scrolled": true
   },
   "outputs": [
    {
     "data": {
      "image/png": "[encoded data removed]",
      "text/plain": [
       "<Figure size 504x1080 with 1 Axes>"
      ]
     },
     "metadata": {},
     "output_type": "display_data"
    }
   ],
   "source": [
    "# Contas e rotatividade de clientes por Estado\n",
    "\n",
    "sns.set(style=\"whitegrid\")\n",
    "\n",
    "# Inicializando a figura do gráfico\n",
    "f, ax = plt.subplots(figsize=(7, 15))\n",
    "\n",
    "state_churn_acc_length = train.groupby(['state', 'churn'])['account_length'].\\\n",
    "                   sum().to_frame('count').\\\n",
    "                   sort_values('count', ascending=False).reset_index()\n",
    "\n",
    "state_total_acc_length = state_churn_acc_length.groupby('state').\\\n",
    "                   sum().sort_values('count', ascending=False).reset_index()\n",
    "\n",
    "state_churn_yes_acc_length = state_churn_acc_length[state_churn_acc_length['churn'] == 'yes'].\\\n",
    "                             groupby('count').sum().sort_values('state', ascending=False).reset_index()\n",
    "\n",
    "# Gráfico de contas por Estado\n",
    "sns.set_color_codes(\"muted\")\n",
    "sns.barplot(x=\"count\", y=\"state\", data=state_total_acc_length);\n",
    "\n",
    "# Gráfico de clientes que deixaram planos por Estado\n",
    "sns.set_color_codes(\"dark\")\n",
    "sns.barplot(x=\"count\", y=\"state\", data=state_churn_yes_acc_length, color=\"r\");\n",
    "\n",
    "ax.set(title = \"Contas e rotatividade de clientes por Estado\", ylabel = \"Estado\", xlabel = \"Total\")\n",
    "sns.despine(left=True, bottom=True);"
   ]
  },
  {
   "cell_type": "markdown",
   "metadata": {},
   "source": [
    "#### 6.4 Correio de voz e rotatividade de clientes"
   ]
  },
  {
   "cell_type": "code",
   "execution_count": 13,
   "metadata": {},
   "outputs": [
    {
     "data": {
      "image/png": "[encoded data removed]",
      "text/plain": [
       "<Figure size 492.1x432 with 1 Axes>"
      ]
     },
     "metadata": {},
     "output_type": "display_data"
    }
   ],
   "source": [
    "# Correio de voz e rotatividade de clientes\n",
    "\n",
    "voice_mail_plan_churn = train.groupby(['voice_mail_plan', 'churn'])['churn'].\\\n",
    "                            size().to_frame('size').sort_values('size', ascending=False).\\\n",
    "                            reset_index()\n",
    "voice_mail_plan_churn\n",
    "\n",
    "voice_mail_plan_churn['churn'] = \\\n",
    "['não' if x == 'no' else 'sim' for x in voice_mail_plan_churn['churn']]\n",
    "\n",
    "voice_mail_plan_churn['voice_mail_plan'] = \\\n",
    "['não' if x == 'no' else 'sim' for x in voice_mail_plan_churn['voice_mail_plan']]\n",
    "\n",
    "g = sns.catplot(x='voice_mail_plan', y='size', hue='churn', data=voice_mail_plan_churn,\n",
    "                height=6, kind='bar', palette='muted')\n",
    "g.despine(left=True)\n",
    "g.set_ylabels(\"Total\")\n",
    "g.set_xlabels(\"Cliente possui correio de voz?\")\n",
    "plt.subplots_adjust(top=0.9)\n",
    "g.fig.suptitle('Correio de voz x Rotatividade de clientes');"
   ]
  },
  {
   "cell_type": "markdown",
   "metadata": {},
   "source": [
    "#### 6.5 Total de crédito (carga) por Estado"
   ]
  },
  {
   "cell_type": "code",
   "execution_count": 14,
   "metadata": {
    "scrolled": true
   },
   "outputs": [
    {
     "data": {
      "image/png": "[encoded data removed]",
      "text/plain": [
       "<Figure size 504x1080 with 1 Axes>"
      ]
     },
     "metadata": {},
     "output_type": "display_data"
    }
   ],
   "source": [
    "# Total de crédito (carga) por Estado\n",
    "\n",
    "sns.set(style=\"whitegrid\")\n",
    "\n",
    "state_analytics_charge = train.groupby('state')['total_charge']\\\n",
    "                      .sum().to_frame('count').sort_values('count', ascending = False).reset_index()\n",
    "state_analytics_charge\n",
    "\n",
    "# Inicializando a figura do gráfico\n",
    "f, ax = plt.subplots(figsize=(7, 15))\n",
    "\n",
    "# Plotando gráfico de crédito (carga) por Estado\n",
    "sns.set_color_codes(\"muted\")\n",
    "sns.barplot(x=\"count\", y=\"state\", data=state_analytics_charge)\n",
    "\n",
    "ax.set(title = \"Crédito (carga) por Estado\", ylabel = \"Estado\", xlabel = \"Crédito (carga)\")\n",
    "sns.despine(left=True, bottom=True)"
   ]
  },
  {
   "cell_type": "markdown",
   "metadata": {},
   "source": [
    "#### 6.6 Rotatividade de clientes por serviços em períodos distintos"
   ]
  },
  {
   "cell_type": "code",
   "execution_count": 15,
   "metadata": {
    "scrolled": true
   },
   "outputs": [
    {
     "data": {
      "image/png": "[encoded data removed]",
      "text/plain": [
       "<Figure size 1080x504 with 1 Axes>"
      ]
     },
     "metadata": {},
     "output_type": "display_data"
    }
   ],
   "source": [
    "# Rotatividade de clientes por serviços em períodos distintos\n",
    "\n",
    "time_melted = pd.melt(train, id_vars=['churn'], \\\n",
    "                      value_vars=['total_day_minutes', 'total_eve_minutes', 'total_night_minutes', \\\n",
    "                                  'total_day_calls', 'total_eve_calls', 'total_night_calls', \\\n",
    "                                  'total_day_charge', 'total_eve_charge', 'total_night_charge'], \\\n",
    "                      var_name = 'time', value_name = 'value')\n",
    "\n",
    "time_melted_group = time_melted.groupby(['time', 'churn'])['value'].sum().\\\n",
    "                    to_frame('total').sort_values('time', ascending = False).reset_index()\n",
    "\n",
    "time_melted_group['time'].replace('total_', '', regex=True, inplace=True)\n",
    "time_melted_group['churn'].replace('yes', 'sim', regex=True, inplace=True)\n",
    "time_melted_group['churn'].replace('no', 'não', regex=True, inplace=True)\n",
    "\n",
    "# Tradução período e serviços\n",
    "time_melted_group['time'].replace('day', 'dia', regex=True, inplace=True)\n",
    "time_melted_group['time'].replace('eve', 'tarde', regex=True, inplace=True)\n",
    "time_melted_group['time'].replace('night', 'noite', regex=True, inplace=True)\n",
    "\n",
    "time_melted_group['time'].replace('minutes', 'minutos', regex=True, inplace=True)\n",
    "time_melted_group['time'].replace('calls', 'ligações', regex=True, inplace=True)\n",
    "time_melted_group['time'].replace('charge', 'carga', regex=True, inplace=True)\n",
    "\n",
    "\n",
    "# Inicializando a figura do gráfico\n",
    "f, ax = plt.subplots(figsize=(15, 7))\n",
    "\n",
    "sns.set(style=\"whitegrid\", palette=\"muted\")\n",
    "\n",
    "\n",
    "# Gráfico de rotatividade por períodos\n",
    "sns.swarmplot(x=\"time\", y=\"total\", hue=\"churn\",\n",
    "              palette=[\"r\", \"c\", \"r\"], data=time_melted_group);\n",
    "\n",
    "ax.set(title = \"Rotatividade de clientes por serviços em períodos distintos\",\n",
    "       ylabel = \"total\", xlabel = \"período_serviço\");"
   ]
  },
  {
   "cell_type": "markdown",
   "metadata": {},
   "source": [
    "#### 6.7 Total de ligações por Estado"
   ]
  },
  {
   "cell_type": "code",
   "execution_count": 16,
   "metadata": {},
   "outputs": [
    {
     "data": {
      "image/png": "[encoded data removed]",
      "text/plain": [
       "<Figure size 504x1080 with 1 Axes>"
      ]
     },
     "metadata": {},
     "output_type": "display_data"
    }
   ],
   "source": [
    "# Total de ligações por Estado\n",
    "\n",
    "sns.set(style=\"whitegrid\")\n",
    "\n",
    "state_analytics_call = train.groupby('state')['total_calls']\\\n",
    "                      .sum().to_frame('count').sort_values('count', ascending = False).reset_index()\n",
    "state_analytics_call\n",
    "\n",
    "# Inicializando a figura do gráfico\n",
    "f, ax = plt.subplots(figsize=(7, 15))\n",
    "\n",
    "# Plotando gráfico de ligações por estado\n",
    "sns.set_color_codes(\"muted\")\n",
    "sns.barplot(x=\"count\", y=\"state\", data=state_analytics_call)\n",
    "\n",
    "ax.set(title = \"Ligações por Estado\", ylabel = \"Estado\", xlabel = \"Total de Ligações\")\n",
    "sns.despine(left=True, bottom=True)"
   ]
  },
  {
   "cell_type": "markdown",
   "metadata": {},
   "source": [
    "#### 6.8 Contas por área"
   ]
  },
  {
   "cell_type": "code",
   "execution_count": 17,
   "metadata": {},
   "outputs": [
    {
     "data": {
      "image/png": "[encoded data removed]",
      "text/plain": [
       "<Figure size 432x504 with 1 Axes>"
      ]
     },
     "metadata": {},
     "output_type": "display_data"
    }
   ],
   "source": [
    "# Contas por área\n",
    "\n",
    "area_analytics = train.groupby('area_code').size().\\\n",
    "                  to_frame('count').sort_values('count', ascending=False).reset_index()\n",
    "\n",
    "# Inicializando a figura do gráfico\n",
    "f, ax = plt.subplots(figsize=(6, 7))\n",
    "\n",
    "# Plotando gráfico de contas por área\n",
    "sns.set_color_codes(\"muted\")\n",
    "sns.barplot(x=\"area_code\", y=\"count\", data=area_analytics)\n",
    "\n",
    "ax.set(title = \"Contas por área\", ylabel = \"Total\", xlabel = \"Área\")\n",
    "sns.despine(left=True, bottom=True)"
   ]
  },
  {
   "cell_type": "markdown",
   "metadata": {},
   "source": [
    "#### 6.9 Ligações por área"
   ]
  },
  {
   "cell_type": "code",
   "execution_count": 18,
   "metadata": {},
   "outputs": [
    {
     "data": {
      "image/png": "[encoded data removed]",
      "text/plain": [
       "<Figure size 432x504 with 1 Axes>"
      ]
     },
     "metadata": {},
     "output_type": "display_data"
    }
   ],
   "source": [
    "# Ligações por área\n",
    "\n",
    "customer_service_area_analytics = train.groupby('area_code')['total_calls'].\\\n",
    "                                  sum().to_frame('count').sort_values('count', ascending=False).\\\n",
    "                                  reset_index()\n",
    "\n",
    "# Inicializando a figura do gráfico\n",
    "f, ax = plt.subplots(figsize=(6, 7))\n",
    "\n",
    "# Plotando gráfico de ligações por área\n",
    "sns.set_color_codes(\"muted\")\n",
    "sns.barplot(x=\"area_code\", y=\"count\", data=customer_service_area_analytics)\n",
    "\n",
    "ax.set(title = \"Ligações por área\", ylabel = \"Total\", xlabel = \"Área\")\n",
    "sns.despine(left=True, bottom=True)"
   ]
  },
  {
   "cell_type": "markdown",
   "metadata": {},
   "source": [
    "#### 6.10 Chamados de serviços de clientes por área"
   ]
  },
  {
   "cell_type": "code",
   "execution_count": 19,
   "metadata": {},
   "outputs": [
    {
     "data": {
      "image/png": "[encoded data removed]",
      "text/plain": [
       "<Figure size 432x504 with 1 Axes>"
      ]
     },
     "metadata": {},
     "output_type": "display_data"
    }
   ],
   "source": [
    "# Chamados de clientes por área\n",
    "\n",
    "customer_service_area_analytics = train.groupby('area_code')['number_customer_service_calls'].\\\n",
    "                                  sum().to_frame('count').sort_values('count', ascending=False).\\\n",
    "                                  reset_index()\n",
    "\n",
    "# Inicializando a figura do gráfico\n",
    "f, ax = plt.subplots(figsize=(6, 7))\n",
    "\n",
    "# Plotando gráfico de chamados de clientes por área\n",
    "sns.set_color_codes(\"muted\")\n",
    "sns.barplot(x=\"area_code\", y=\"count\", data=customer_service_area_analytics)\n",
    "\n",
    "ax.set(title = \"Chamados de serviços de clientes por área\", ylabel = \"Total\", xlabel = \"Área\")\n",
    "sns.despine(left=True, bottom=True)"
   ]
  },
  {
   "cell_type": "markdown",
   "metadata": {},
   "source": [
    "#### 6.11 Rotatividade de clientes por área"
   ]
  },
  {
   "cell_type": "code",
   "execution_count": 20,
   "metadata": {},
   "outputs": [
    {
     "data": {
      "image/png": "[encoded data removed]",
      "text/plain": [
       "<Figure size 492.1x432 with 1 Axes>"
      ]
     },
     "metadata": {},
     "output_type": "display_data"
    }
   ],
   "source": [
    "# Rotatividade de clientes por área\n",
    "\n",
    "churn_analytics_area_code = train.groupby(['area_code', 'churn'])['churn'].\\\n",
    "                            size().to_frame('size').sort_values('size', ascending=False).\\\n",
    "                            reset_index()\n",
    "churn_analytics_area_code\n",
    "\n",
    "churn_analytics_area_code['churn'] = \\\n",
    "['não' if x == 'no' else 'sim' for x in churn_analytics_area_code['churn']]\n",
    "\n",
    "g = sns.catplot(x='area_code', y='size', hue='churn', data=churn_analytics_area_code,\n",
    "                height=6, kind='bar', palette='muted')\n",
    "g.despine(left=True)\n",
    "g.set_ylabels(\"Total\")\n",
    "g.set_xlabels(\"Área\")\n",
    "plt.subplots_adjust(top=0.9)\n",
    "g.fig.suptitle('Rotatividade de clientes por área');"
   ]
  },
  {
   "cell_type": "markdown",
   "metadata": {},
   "source": [
    "#### 6.12 Contas por nacionalidade"
   ]
  },
  {
   "cell_type": "code",
   "execution_count": 21,
   "metadata": {},
   "outputs": [
    {
     "data": {
      "image/png": "[encoded data removed]",
      "text/plain": [
       "<Figure size 288x504 with 1 Axes>"
      ]
     },
     "metadata": {},
     "output_type": "display_data"
    }
   ],
   "source": [
    "# Análise de contas por nacionalidade\n",
    "\n",
    "international_plan_analytics = train.groupby('international_plan').size().to_frame('count').reset_index()\n",
    "international_plan_analytics\n",
    "\n",
    "international_plan_analytics['international_plan'] = \\\n",
    "['Nacional' if x == 'no' else 'Internacional' for x in international_plan_analytics['international_plan']]\n",
    "\n",
    "# Inicializando a figura do gráfico\n",
    "f, ax = plt.subplots(figsize=(4, 7))\n",
    "\n",
    "# Plotando gráfico de contas por nacionalidade\n",
    "sns.set_color_codes(\"muted\")\n",
    "sns.barplot(x=\"international_plan\", y=\"count\", data=international_plan_analytics)\n",
    "\n",
    "ax.set(title = \"Contas por nacionalidade\", ylabel = \"Total\", xlabel = \"\")\n",
    "sns.despine(left=True, bottom=True)"
   ]
  },
  {
   "cell_type": "markdown",
   "metadata": {},
   "source": [
    "#### 6.13 Ligações por nacionalidade"
   ]
  },
  {
   "cell_type": "code",
   "execution_count": 22,
   "metadata": {},
   "outputs": [
    {
     "data": {
      "image/png": "[encoded data removed]",
      "text/plain": [
       "<Figure size 288x504 with 1 Axes>"
      ]
     },
     "metadata": {},
     "output_type": "display_data"
    }
   ],
   "source": [
    "# Análise de ligações por nacionalidade\n",
    "\n",
    "call_international_analytics = train.groupby('international_plan')['total_calls'].\\\n",
    "                               sum().to_frame('count').sort_values('count', ascending=False).\\\n",
    "                               reset_index()\n",
    "\n",
    "call_international_analytics['international_plan'] = \\\n",
    "['Nacional' if x == 'no' else 'Internacional' for x in call_international_analytics['international_plan']]\n",
    "\n",
    "# Inicializando a figura do gráfico\n",
    "f, ax = plt.subplots(figsize=(4, 7))\n",
    "\n",
    "# Plotando gráfico de ligações por nacionalidade\n",
    "sns.set_color_codes(\"muted\")\n",
    "sns.barplot(x=\"international_plan\", y=\"count\", data=call_international_analytics)\n",
    "\n",
    "ax.set(title = \"Ligações por nacionalidade\", ylabel = \"Ligações\", xlabel = \"\")\n",
    "sns.despine(left=True, bottom=True)"
   ]
  },
  {
   "cell_type": "markdown",
   "metadata": {},
   "source": [
    "#### 6.14 Chamados de serviços de clientes por nacionalidade"
   ]
  },
  {
   "cell_type": "code",
   "execution_count": 23,
   "metadata": {},
   "outputs": [
    {
     "data": {
      "image/png": "[encoded data removed]",
      "text/plain": [
       "<Figure size 288x504 with 1 Axes>"
      ]
     },
     "metadata": {},
     "output_type": "display_data"
    }
   ],
   "source": [
    "# Análise de chamados de serviços de clientes por nacionalidade\n",
    "\n",
    "call_international_analytics = train.groupby('international_plan')['number_customer_service_calls'].\\\n",
    "                               sum().to_frame('count').sort_values('count', ascending=False).\\\n",
    "                               reset_index()\n",
    "\n",
    "call_international_analytics['international_plan'] = \\\n",
    "['Nacional' if x == 'no' else 'Internacional' for x in call_international_analytics['international_plan']]\n",
    "\n",
    "# Inicializando a figura do gráfico\n",
    "f, ax = plt.subplots(figsize=(4, 7))\n",
    "\n",
    "# Plotando gráfico de chamados de serviços\n",
    "sns.set_color_codes(\"muted\")\n",
    "sns.barplot(x=\"international_plan\", y=\"count\", data=call_international_analytics)\n",
    "\n",
    "ax.set(title = \"Chamados de serviços de clientes por nacionalidade\", ylabel = \"Chamados\", xlabel = \"\")\n",
    "sns.despine(left=True, bottom=True)"
   ]
  },
  {
   "cell_type": "markdown",
   "metadata": {},
   "source": [
    "#### 6.15 Rotatividade de clientes por nacionalidade"
   ]
  },
  {
   "cell_type": "code",
   "execution_count": 24,
   "metadata": {},
   "outputs": [
    {
     "data": {
      "image/png": "[encoded data removed]",
      "text/plain": [
       "<Figure size 490.725x432 with 1 Axes>"
      ]
     },
     "metadata": {},
     "output_type": "display_data"
    }
   ],
   "source": [
    "# Rotatividade de clientes por nacionalidade\n",
    "\n",
    "churn_analytics_international = train.groupby(['international_plan', 'churn'])['churn'].\\\n",
    "                                size().to_frame('size').sort_values('size', ascending=False).\\\n",
    "                                reset_index()\n",
    "\n",
    "churn_analytics_international['international_plan'] = \\\n",
    "['Nacional' if x == 'no' else 'Internacional' for x in churn_analytics_international['international_plan']]\n",
    "\n",
    "\n",
    "g = sns.catplot(x='international_plan', y='size', hue='churn', data=churn_analytics_international,\n",
    "                height=6, kind='bar', palette='muted')\n",
    "g.despine(left=True)\n",
    "g.set_ylabels(\"Total\")\n",
    "g.set_xlabels(\"Plano\")\n",
    "plt.subplots_adjust(top=0.9)\n",
    "g.fig.suptitle('Rotatividade de clientes por nacionalidade');"
   ]
  },
  {
   "cell_type": "markdown",
   "metadata": {},
   "source": [
    "### 7. Removendo colunas colineares"
   ]
  },
  {
   "cell_type": "code",
   "execution_count": 25,
   "metadata": {},
   "outputs": [],
   "source": [
    "# Removendo colunas com informações colineares\n",
    "\n",
    "del train['total_calls'] ; del train['total_charge']"
   ]
  },
  {
   "cell_type": "markdown",
   "metadata": {},
   "source": [
    "### 8. Verificando tipos dos dados"
   ]
  },
  {
   "cell_type": "code",
   "execution_count": 26,
   "metadata": {
    "scrolled": true
   },
   "outputs": [
    {
     "data": {
      "text/plain": [
       "state                             object\n",
       "account_length                     int64\n",
       "area_code                         object\n",
       "international_plan                object\n",
       "voice_mail_plan                   object\n",
       "number_vmail_messages              int64\n",
       "total_day_minutes                float64\n",
       "total_day_calls                    int64\n",
       "total_day_charge                 float64\n",
       "total_eve_minutes                float64\n",
       "total_eve_calls                    int64\n",
       "total_eve_charge                 float64\n",
       "total_night_minutes              float64\n",
       "total_night_calls                  int64\n",
       "total_night_charge               float64\n",
       "total_intl_minutes               float64\n",
       "total_intl_calls                   int64\n",
       "total_intl_charge                float64\n",
       "number_customer_service_calls      int64\n",
       "churn                             object\n",
       "dtype: object"
      ]
     },
     "execution_count": 26,
     "metadata": {},
     "output_type": "execute_result"
    }
   ],
   "source": [
    "train.dtypes"
   ]
  },
  {
   "cell_type": "markdown",
   "metadata": {},
   "source": [
    "### 9. Transformando conjuntos de dados"
   ]
  },
  {
   "cell_type": "code",
   "execution_count": 27,
   "metadata": {},
   "outputs": [],
   "source": [
    "# Transformando variáveis categóricas em variáveis numéricas e\n",
    "# removendo colunas irrelevantes para o modelo\n",
    "\n",
    "# Dados de treino\n",
    "\n",
    "# Retornando valores unicode para cada letra de estado\n",
    "train['state_int'] = 0\n",
    "count = 0\n",
    "for st in train.state:\n",
    "    train.state_int.loc[count] = sum([ord(state) for state in st])\n",
    "    count = count + 1\n",
    "\n",
    "# Removendo coluna colinear com informação de estado\n",
    "del train['state']\n",
    "\n",
    "# Removendo coluna irrelevante, contém muitos valores 0's\n",
    "# Trazendo prejuiízo na predição do modelo\n",
    "del train['number_vmail_messages']\n",
    "\n",
    "train['area_code'] = \\\n",
    "[415 if x == 'area_code_415' else \\\n",
    " 408 if x == 'area_code_408' else \\\n",
    " 510 if x == 'area_code_510' else x for x in train['area_code']]\n",
    "\n",
    "train['international_plan'] = \\\n",
    "[0 if x == 'no' else 1 for x in train['international_plan']]\n",
    "\n",
    "train['voice_mail_plan'] = \\\n",
    "[0 if x == 'no' else 1 for x in train['voice_mail_plan']]\n",
    "\n",
    "train['churn'] = \\\n",
    "[0 if x == 'no' else 1 for x in train['churn']]\n",
    "\n",
    "# Dados de teste\n",
    "\n",
    "#retornando valores unicode para cada letra de estado\n",
    "test['state_int'] = 0\n",
    "count = 0\n",
    "for st in test.state:\n",
    "    test.state_int.loc[count] = sum([ord(state) for state in st])\n",
    "    count = count + 1\n",
    "    \n",
    "del test['state']\n",
    "\n",
    "# Removendo coluna irrelevante, contém muitos valores 0's\n",
    "# Trazendo prejuiízo na predição do modelo\n",
    "del test['number_vmail_messages']\n",
    "\n",
    "test['area_code'] = \\\n",
    "[415 if x == 'area_code_415' else \\\n",
    " 408 if x == 'area_code_408' else \\\n",
    " 510 if x == 'area_code_510' else x for x in test['area_code']]\n",
    "\n",
    "test['international_plan'] = \\\n",
    "[0 if x == 'no' else 1 for x in test['international_plan']]\n",
    "\n",
    "test['voice_mail_plan'] = \\\n",
    "[0 if x == 'no' else 1 for x in test['voice_mail_plan']]\n",
    "\n",
    "test['churn'] = \\\n",
    "[0 if x == 'no' else 1 for x in test['churn']]"
   ]
  },
  {
   "cell_type": "markdown",
   "metadata": {},
   "source": [
    "### 10. Verificando distribuição de rotatividade\n",
    "#### 10.1 Treino"
   ]
  },
  {
   "cell_type": "code",
   "execution_count": 28,
   "metadata": {},
   "outputs": [
    {
     "data": {
      "image/png": "[encoded data removed]",
      "text/plain": [
       "<Figure size 432x288 with 1 Axes>"
      ]
     },
     "metadata": {},
     "output_type": "display_data"
    }
   ],
   "source": [
    "# Verificar distribuição de rotatividade nos dados de treino\n",
    "\n",
    "train_dist_analytics = train.groupby('churn').size().plot(kind=\"bar\")"
   ]
  },
  {
   "cell_type": "markdown",
   "metadata": {},
   "source": [
    "#### 10.2 Teste"
   ]
  },
  {
   "cell_type": "code",
   "execution_count": 29,
   "metadata": {
    "scrolled": true
   },
   "outputs": [
    {
     "data": {
      "image/png": "[encoded data removed]",
      "text/plain": [
       "<Figure size 432x288 with 1 Axes>"
      ]
     },
     "metadata": {},
     "output_type": "display_data"
    }
   ],
   "source": [
    "# Verificar distribuição de rotatividade nos dados de teste\n",
    "\n",
    "test_dist_analytics = test.groupby('churn').size().plot(kind=\"bar\")"
   ]
  },
  {
   "cell_type": "markdown",
   "metadata": {},
   "source": [
    "Podemos analisar que os dados de treino e teste possuem uma distribuição balanceada, evitando o Overfitting (sobreajuste) e Underfitting (subajuste).\n",
    "docs.aws.amazon.com/pt_br/machine-learning/latest/dg/model-fit-underfitting-vs-overfitting.html"
   ]
  },
  {
   "cell_type": "markdown",
   "metadata": {},
   "source": [
    "### 11. Separando variáveis preditoras de variável target"
   ]
  },
  {
   "cell_type": "code",
   "execution_count": 30,
   "metadata": {},
   "outputs": [],
   "source": [
    "# Separar as variáveis preditoras da variável target\n",
    "\n",
    "# Dados de treino\n",
    "X_train = train.drop(['churn'], axis = 1)\n",
    "Y_train = train['churn']\n",
    "\n",
    "# Dados de teste\n",
    "X_test = test.drop(['churn'], axis = 1)\n",
    "Y_test = test['churn']"
   ]
  },
  {
   "cell_type": "markdown",
   "metadata": {},
   "source": [
    "### 12. Normalização e Padronização\n",
    "\n",
    "Quando os nossos dados estão em escalas diferentes o algoritmo pode não obter o melhor resultado, sendo necessário muitas vezes normalizar ou padronizar.\n",
    "\n",
    "Normalização e Padronização tem objetivo semelhante, ambas servem para transformar os dados para mesma grandeza, porém o resultado da padronização é média = 0 e desvio padrão igual a 1.\n",
    "\n",
    "Utilizaremos as funções do Sklearn para normalizar e padronizar e em seguida testaremos com o modelo de Regressão Logística."
   ]
  },
  {
   "cell_type": "markdown",
   "metadata": {},
   "source": [
    "#### 12.1 Normalização com MinMaxScaler"
   ]
  },
  {
   "cell_type": "code",
   "execution_count": 31,
   "metadata": {},
   "outputs": [],
   "source": [
    "# Normalizando dados com MinMaxScaler\n",
    "\n",
    "# Escala\n",
    "scaler = MinMaxScaler(feature_range = (0, 1))\n",
    "\n",
    "# Aplicando modelo para reescala\n",
    "X_train_minmaxscaler = scaler.fit_transform(X_train)\n",
    "X_test_minmaxscaler = scaler.fit_transform(X_test)"
   ]
  },
  {
   "cell_type": "markdown",
   "metadata": {},
   "source": [
    "#### 12.2 Normalização com Normalizer"
   ]
  },
  {
   "cell_type": "code",
   "execution_count": 32,
   "metadata": {},
   "outputs": [],
   "source": [
    "# Normalizando dados com Normalizer\n",
    "\n",
    "scaler = Normalizer().fit(X_train)\n",
    "X_train_normalizer = scaler.transform(X_train)\n",
    "\n",
    "scaler = Normalizer().fit(X_test)\n",
    "X_test_normalizer = scaler.transform(X_test)"
   ]
  },
  {
   "cell_type": "markdown",
   "metadata": {},
   "source": [
    "#### 12.3 Padronização com StandardScaler"
   ]
  },
  {
   "cell_type": "code",
   "execution_count": 33,
   "metadata": {},
   "outputs": [],
   "source": [
    "# Padronizando dados com StandardScaler\n",
    "\n",
    "scaler = StandardScaler().fit(X_train)\n",
    "X_train_standardscaler = scaler.transform(X_train)\n",
    "\n",
    "scaler = StandardScaler().fit(X_test)\n",
    "X_test_standardscaler = scaler.transform(X_test)"
   ]
  },
  {
   "cell_type": "markdown",
   "metadata": {},
   "source": [
    "### 13. Modelo de Machine Learning e Regressão Logística (Logistic Regression)\n",
    "\n",
    "Utilizaremos o modelo de Machine Learning de classificação - LogisticRegression (Regressão Logística), para prever se o cliente vai deixar o plano ou não, abordaremos diversas técnicas de pré-processamento, normalização e padronização nos dados de entrada."
   ]
  },
  {
   "cell_type": "markdown",
   "metadata": {},
   "source": [
    "#### 13.1 Regressão Logística com dados pré-processados, sem técnicas de normalização e padronização"
   ]
  },
  {
   "cell_type": "code",
   "execution_count": 34,
   "metadata": {
    "scrolled": true
   },
   "outputs": [
    {
     "name": "stdout",
     "output_type": "stream",
     "text": [
      "Acurácia: 86.683%\n"
     ]
    }
   ],
   "source": [
    "# Regressão Logística em dados sem técnicas de normalização e padronização\n",
    "\n",
    "# Criação do modelo Logistic Regression (Regressão Logística)\n",
    "model_LR_without_rescaler = LogisticRegression()\n",
    "model_LR_without_rescaler.fit(X_train, Y_train)\n",
    "\n",
    "# Score do modelo LR\n",
    "result_LR_without_rescaler = model_LR_without_rescaler.score(X_test, Y_test)\n",
    "\n",
    "\n",
    "print(\"Acurácia: %.3f%%\" % (result_LR_without_rescaler * 100.0))"
   ]
  },
  {
   "cell_type": "markdown",
   "metadata": {},
   "source": [
    "#### 13.2 Regressão Logística em dados normalizados com MinMaxScaler"
   ]
  },
  {
   "cell_type": "code",
   "execution_count": 35,
   "metadata": {},
   "outputs": [
    {
     "name": "stdout",
     "output_type": "stream",
     "text": [
      "Acurácia: 86.503%\n"
     ]
    }
   ],
   "source": [
    "# Regressão logística em dados normalizados com MinMaxScaler\n",
    "\n",
    "# Criação do modelo Logistic Regression (Regressão Logística)\n",
    "model_LR_minmaxscaler = LogisticRegression()\n",
    "model_LR_minmaxscaler.fit(X_train_minmaxscaler, Y_train)\n",
    "\n",
    "# Score do modelo LR\n",
    "result_LR_minmaxscaler = model_LR_minmaxscaler.score(X_test_minmaxscaler, Y_test)\n",
    "\n",
    "print(\"Acurácia: %.3f%%\" % (result_LR_minmaxscaler * 100.0))"
   ]
  },
  {
   "cell_type": "markdown",
   "metadata": {},
   "source": [
    "#### 13.3 Regressão Logística em dados normalizados com Normalizer"
   ]
  },
  {
   "cell_type": "code",
   "execution_count": 36,
   "metadata": {},
   "outputs": [
    {
     "name": "stdout",
     "output_type": "stream",
     "text": [
      "Acurácia: 86.563%\n"
     ]
    }
   ],
   "source": [
    "# Regressão logística em dados normalizados com Normalizer\n",
    "\n",
    "# Criação do modelo Logistic Regression (Regressão Logística)\n",
    "model_LR_normalizer = LogisticRegression()\n",
    "model_LR_normalizer.fit(X_train_normalizer, Y_train)\n",
    "\n",
    "# Score do modelo LR\n",
    "result_LR_normalizer = model_LR_normalizer.score(X_test_normalizer, Y_test)\n",
    "\n",
    "print(\"Acurácia: %.3f%%\" % (result_LR_normalizer * 100.0))"
   ]
  },
  {
   "cell_type": "markdown",
   "metadata": {},
   "source": [
    "####  13.4 Regressão Logística em dados padronizados com StandardScaler"
   ]
  },
  {
   "cell_type": "code",
   "execution_count": 37,
   "metadata": {},
   "outputs": [
    {
     "name": "stdout",
     "output_type": "stream",
     "text": [
      "Acurácia: 86.983%\n"
     ]
    }
   ],
   "source": [
    "# Regressão logística em dados padronizados com StandardScaler\n",
    "\n",
    "# Criação do modelo Logistic Regression (Regressão Logística)\n",
    "model_LR_standardscaler = LogisticRegression()\n",
    "model_LR_standardscaler.fit(X_train_standardscaler, Y_train)\n",
    "\n",
    "# Score do modelo LR\n",
    "result_LR_standardscaler = model_LR_standardscaler.score(X_test_standardscaler, Y_test)\n",
    "\n",
    "print(\"Acurácia: %.3f%%\" % (result_LR_standardscaler * 100.0))"
   ]
  },
  {
   "cell_type": "markdown",
   "metadata": {},
   "source": [
    "#### 13.5 Otimização do Modelo Regressão Logística\n",
    "\n",
    "O algoritmo pode receber alguns parâmetros para aumentar a performance do modelo, dentre inúmeras técnicas nós utilizaremos o GridSearchCV para testar várias possibilidades."
   ]
  },
  {
   "cell_type": "code",
   "execution_count": 38,
   "metadata": {
    "scrolled": true
   },
   "outputs": [
    {
     "name": "stdout",
     "output_type": "stream",
     "text": [
      "Acurácia: 86.349\n",
      "Melhores Parâmetros de :  LogisticRegression(C=1, class_weight=None, dual=False, fit_intercept=True,\n",
      "                   intercept_scaling=1, l1_ratio=None, max_iter=500,\n",
      "                   multi_class='auto', n_jobs=None, penalty='l2',\n",
      "                   random_state=None, solver='lbfgs', tol=0.0001, verbose=0,\n",
      "                   warm_start=False)\n"
     ]
    }
   ],
   "source": [
    "# Aplicando métodos de otimização em modelo de regressão logística\n",
    "\n",
    "param_resume_values = {'penalty': ['l2'],\n",
    "                       'C': [1,10,100],\n",
    "                       'solver': ['lbfgs', 'liblinear'],\n",
    "                       'max_iter': [100, 500]}\n",
    "\n",
    "# Para economizar tempo de processamento, deixarei comentando\n",
    "# Caso queira testar mais parâmetros, descomentar as linhas abaixo\n",
    "\n",
    "# param_full_values = {'penalty': ['l1','l2'],\n",
    "#                      'C': [0.1,1,10,100,1000],\n",
    "#                      'solver': ['newton-cg', 'lbfgs', 'liblinear', 'sag', 'saga'],\n",
    "#                      'max_iter': [100, 500, 1000]}\n",
    "\n",
    "\n",
    "# Criação do modelo Logistic Regression (Regressão Logística)\n",
    "model_LR_opt = LogisticRegression()\n",
    "\n",
    "# GRID\n",
    "grid_LR_opt = GridSearchCV(model_LR_opt, param_grid = param_resume_values)\n",
    "grid_LR_opt.fit(X_train, Y_train)\n",
    "\n",
    "print(\"Acurácia: %.3f\" % (grid_LR_opt.best_score_ * 100))\n",
    "print(\"Melhores Parâmetros de : \", grid_LR_opt.best_estimator_)"
   ]
  },
  {
   "cell_type": "markdown",
   "metadata": {},
   "source": [
    "### 14. Feature Selection (Seleção de Variáveis)\n",
    "\n",
    "A técnica de feature selection muitas vezes é importante, sendo capaz de criar um rank para as variáveis que têm uma melhor acurácia para predição do modelo."
   ]
  },
  {
   "cell_type": "code",
   "execution_count": 39,
   "metadata": {},
   "outputs": [],
   "source": [
    "# Feature Selection (Seleção de Variáveis)\n",
    "\n",
    "# Criação do Modelo - Feature Selection\n",
    "model_LR_feature_selection = LogisticRegression()\n",
    "\n",
    "# RFE\n",
    "rfe = RFE(model_LR_feature_selection, 5)\n",
    "fit = rfe.fit(X_train, Y_train)\n",
    "\n",
    "feature_importance_LR = pd.DataFrame({\"feature\" : train.drop(['churn'], axis = 1).columns, \"value\" : fit.support_}).\\\n",
    "                        sort_values('value', ascending = False)\n",
    "\n",
    "feature_importance_LR_true = feature_importance_LR[feature_importance_LR['value'] == True]['feature']\n",
    "\n",
    "X_train_LR_feature = pd.DataFrame(data = X_train, columns = X_train.columns)\n",
    "X_test_LR_feature = pd.DataFrame(data = X_test, columns = X_test.columns)\n",
    "\n",
    "X_train_LR_feature = X_train_LR_feature[feature_importance_LR_true]\n",
    "X_test_LR_feature = X_test_LR_feature[feature_importance_LR_true]"
   ]
  },
  {
   "cell_type": "markdown",
   "metadata": {},
   "source": [
    "#### 14.1 Regressão logística com feature selection"
   ]
  },
  {
   "cell_type": "code",
   "execution_count": 40,
   "metadata": {},
   "outputs": [
    {
     "name": "stdout",
     "output_type": "stream",
     "text": [
      "Acurácia nos dados de teste: 87.283%\n"
     ]
    }
   ],
   "source": [
    "# Regressão logística com feature selection\n",
    "\n",
    "# Criação do modelo Logistic Regression (Regressão Logística)\n",
    "model_LR_feature_selected = LogisticRegression()\n",
    "model_LR_feature_selected.fit(X_train_LR_feature, Y_train)\n",
    "\n",
    "# Score do modelo LR\n",
    "result_LR_feature_selected = model_LR_feature_selected.score(X_test_LR_feature, Y_test)\n",
    "\n",
    "print(\"Acurácia nos dados de teste: %.3f%%\" % (result_LR_feature_selected * 100.0))"
   ]
  },
  {
   "cell_type": "markdown",
   "metadata": {},
   "source": [
    "### 15. Resumo de acurácia dos modelos"
   ]
  },
  {
   "cell_type": "code",
   "execution_count": 41,
   "metadata": {},
   "outputs": [
    {
     "data": {
      "text/html": [
       "<div>\n",
       "<style scoped>\n",
       "    .dataframe tbody tr th:only-of-type {\n",
       "        vertical-align: middle;\n",
       "    }\n",
       "\n",
       "    .dataframe tbody tr th {\n",
       "        vertical-align: top;\n",
       "    }\n",
       "\n",
       "    .dataframe thead th {\n",
       "        text-align: right;\n",
       "    }\n",
       "</style>\n",
       "<table border=\"1\" class=\"dataframe\">\n",
       "  <thead>\n",
       "    <tr style=\"text-align: right;\">\n",
       "      <th></th>\n",
       "      <th>total</th>\n",
       "    </tr>\n",
       "  </thead>\n",
       "  <tbody>\n",
       "    <tr>\n",
       "      <th>LR_feature_selected</th>\n",
       "      <td>87.282543</td>\n",
       "    </tr>\n",
       "    <tr>\n",
       "      <th>LR_standardscaler</th>\n",
       "      <td>86.982603</td>\n",
       "    </tr>\n",
       "    <tr>\n",
       "      <th>LR_without_rescaler</th>\n",
       "      <td>86.682663</td>\n",
       "    </tr>\n",
       "    <tr>\n",
       "      <th>LR_normalizer</th>\n",
       "      <td>86.562687</td>\n",
       "    </tr>\n",
       "    <tr>\n",
       "      <th>LR_minmaxscaler</th>\n",
       "      <td>86.502699</td>\n",
       "    </tr>\n",
       "  </tbody>\n",
       "</table>\n",
       "</div>"
      ],
      "text/plain": [
       "                         total\n",
       "LR_feature_selected  87.282543\n",
       "LR_standardscaler    86.982603\n",
       "LR_without_rescaler  86.682663\n",
       "LR_normalizer        86.562687\n",
       "LR_minmaxscaler      86.502699"
      ]
     },
     "execution_count": 41,
     "metadata": {},
     "output_type": "execute_result"
    }
   ],
   "source": [
    "# Resumo de acurácia de modelos\n",
    "\n",
    "result_dict = {\"LR_without_rescaler\" : result_LR_without_rescaler * 100,\n",
    "               \"LR_minmaxscaler\" : result_LR_minmaxscaler * 100,\n",
    "               \"LR_normalizer\" : result_LR_normalizer * 100,\n",
    "               \"LR_standardscaler\" : result_LR_standardscaler * 100,\n",
    "               \"LR_feature_selected\" : result_LR_feature_selected * 100}\n",
    "\n",
    "result_df = pd.DataFrame(data = result_dict, index=[\"total\"]).T.sort_values('total', ascending = False)\n",
    "\n",
    "result_df"
   ]
  },
  {
   "cell_type": "markdown",
   "metadata": {},
   "source": [
    "No nosso caso, a técnica de feature selection nos ajudou a obter uma melhor acurácia, tornando-se o melhor modelo deste projeto."
   ]
  },
  {
   "cell_type": "markdown",
   "metadata": {},
   "source": [
    "### 16. Previsões, probabilidade e matriz de confusão"
   ]
  },
  {
   "cell_type": "code",
   "execution_count": 42,
   "metadata": {},
   "outputs": [
    {
     "name": "stdout",
     "output_type": "stream",
     "text": [
      "Cliente deixou plano?  NÃO: 0.85 % | SIM: 0.15 %\n",
      "\n",
      "Confusion Matrix:\n",
      "[[1420   23]\n",
      " [ 189   35]]\n"
     ]
    }
   ],
   "source": [
    "# Realizando as previsões, construindo um resumo de probabilidade e matriz de confusão\n",
    "LR_feature_selected_predict = model_LR_feature_selected.predict(X_test_LR_feature)\n",
    "matrix = confusion_matrix(Y_test, LR_feature_selected_predict)\n",
    "\n",
    "\n",
    "LR_feature_selected_prob = model_LR_feature_selected.predict_proba(X_test_LR_feature)\n",
    "#matrix_prob = confusion_matrix(Y_test, LR_feature_selected_prob)\n",
    "\n",
    "LR_feature_selected_prob\n",
    "\n",
    "class1 = [prob[0] for prob in LR_feature_selected_prob]\n",
    "class2 = [prob[1] for prob in LR_feature_selected_prob]\n",
    "\n",
    "print(\"Cliente deixou plano?  NÃO:\", round(sum(class1) / len(class1), 2), \"%\",\n",
    "                           \"| SIM:\", round(sum(class2) / len(class2), 2), \"%\")\n",
    "print()\n",
    "print(\"Confusion Matrix:\")\n",
    "print(matrix)"
   ]
  },
  {
   "cell_type": "markdown",
   "metadata": {},
   "source": [
    "<h3> Utilizamos o melhor modelo para fazer as previsões de probabilidades se um cliente vai deixar ou não o plano, o modelo que obteve uma melhor acurácia foi o de regressão logística com a técnica de feature selection. </h3>\n",
    "\n",
    "<h3> Com isso podemos concluir que 85% dos clientes não deixarão o plano e 15% deixarão, a operadora com o objetivo de não perder esses clientes pode lançar campanhas de marketing e promoções. </h3>\n",
    "\n",
    "<h3> A matriz de confusão serve para avaliarmos o desempenho do nosso algoritmo, faz um cruzamento dos dados previstos com os nossos resultados de referência. </h3>\n",
    "\n",
    "<h3> Matriz de Confusão: </h3>\n",
    "    <ul> 1ª linha e 1ª coluna = verdadeiro positivo; </ul>\n",
    "    <ul> 1ª linha e 2ª coluna = falso negativo; </ul>\n",
    "    <ul> 2ª linha e 1ª coluna = falso positivo; </ul>\n",
    "    <ul> 2ª linha e 2ª coluna = verdadeiro negativo; </ul>"
   ]
  }
 ],
 "metadata": {
  "kernelspec": {
   "display_name": "Python 3",
   "language": "python",
   "name": "python3"
  },
  "language_info": {
   "codemirror_mode": {
    "name": "ipython",
    "version": 3
   },
   "file_extension": ".py",
   "mimetype": "text/x-python",
   "name": "python",
   "nbconvert_exporter": "python",
   "pygments_lexer": "ipython3",
   "version": "3.7.6"
  }
 },
 "nbformat": 4,
 "nbformat_minor": 4
}
